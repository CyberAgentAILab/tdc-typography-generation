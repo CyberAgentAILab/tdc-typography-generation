{
 "cells": [
  {
   "cell_type": "code",
   "execution_count": null,
   "metadata": {},
   "outputs": [],
   "source": [
    "from matplotlib import pylab as plt\n",
    "import datasets\n",
    "import pickle\n",
    "import os\n",
    "from typography_generation.io.crello_util import CrelloProcessor\n",
    "from typography_generation.tools.denormalizer import Denormalizer\n",
    "from typography_generation.tools.tokenizer import Tokenizer\n",
    "\n",
    "from typography_generation.visualization.renderer import TextRenderer\n",
    "\n",
    "data_dir = \"../data\"\n",
    "dataset = datasets.load_from_disk(\n",
    "    os.path.join(data_dir, \"crello_map_features\")\n",
    ")[\"test\"]\n",
    "# dataset = datasets.load_dataset(\"cyberagent/crello\", revision=\"3.1\")[\"test\"]\n",
    "fontlabel2fontname = dataset.features[\"font\"].feature.int2str\n",
    "\n",
    "renderer = TextRenderer(data_dir, fontlabel2fontname)\n",
    "\n",
    "tokenizer = Tokenizer(data_dir)\n",
    "dataset_processor = CrelloProcessor(data_dir,tokenizer,dataset,None)\n",
    "denormalizer = Denormalizer(dataset_processor)\n"
   ]
  },
  {
   "cell_type": "code",
   "execution_count": null,
   "metadata": {},
   "outputs": [],
   "source": [
    "def load_pred(output_dir):\n",
    "    fn =f\"{output_dir}/logs/prediction.pkl\"\n",
    "    predictions = pickle.load(open(fn,\"rb\"))\n",
    "    return predictions\n",
    "output_dir = \"../outs\" # please set your output directory here\n",
    "predictions = load_pred(output_dir)"
   ]
  },
  {
   "cell_type": "code",
   "execution_count": null,
   "metadata": {},
   "outputs": [],
   "source": [
    "from typography_generation.visualization.visualizer import visualize_prediction, visualize_data\n",
    "import PIL\n",
    "import numpy as np\n",
    "import random\n",
    "\n",
    "# This code shows 3 generated designs per input context\n",
    "\n",
    "num_sample = 10 \n",
    "\n",
    "for i in range(num_sample):\n",
    "    i=random.randint(0,len(dataset))\n",
    "    N=3\n",
    "    print(i)\n",
    "    element_data = dataset[i]\n",
    "    svg_id = element_data[\"id\"]\n",
    "    fn = os.path.join(data_dir,'generate_bg_png',f'{svg_id}.png')\n",
    "    bg_img = PIL.Image.open(fn).convert(\"RGB\") # background image\n",
    "    H, W = bg_img.size[1], bg_img.size[0]\n",
    "    #display(bg_img)\n",
    "    visdata = {\n",
    "        \"renderer\": renderer,\n",
    "        \"element_data\": element_data,\n",
    "        \"bg_img\": bg_img,\n",
    "    }\n",
    "    def show_sampling(predictions):\n",
    "        fig=plt.figure(figsize=(50, 50))\n",
    "        for iter in range(3):\n",
    "            visdata[\"prediction\"]=predictions[f\"{svg_id}_{iter}\"]\n",
    "            img = visualize_prediction(**visdata).astype(np.uint8)\n",
    "            plt.subplot(1, 3, iter+1)\n",
    "            plt.imshow(img)\n",
    "            plt.axis(\"off\")\n",
    "        plt.show()\n",
    "    show_sampling(predictions)\n",
    "    img = visualize_data(\n",
    "        renderer,\n",
    "        element_data,\n",
    "        bg_img,\n",
    "    )\n",
    "    #display(PIL.Image.fromarray(img.astype(np.uint8)))\n"
   ]
  }
 ],
 "metadata": {
  "kernelspec": {
   "display_name": ".venv",
   "language": "python",
   "name": "python3"
  },
  "language_info": {
   "codemirror_mode": {
    "name": "ipython",
    "version": 3
   },
   "file_extension": ".py",
   "mimetype": "text/x-python",
   "name": "python",
   "nbconvert_exporter": "python",
   "pygments_lexer": "ipython3",
   "version": "3.10.1"
  }
 },
 "nbformat": 4,
 "nbformat_minor": 2
}
