{
 "cells": [
  {
   "cell_type": "code",
   "execution_count": null,
   "metadata": {},
   "outputs": [],
   "source": [
    "def get_score(prefix, score_index, scalar):\n",
    "    tmppath = f\"{prefix}/logs/score.txt\"\n",
    "    with open(tmppath) as f:\n",
    "        scores = f.readlines()\n",
    "    score = scores[score_index].replace('\\n', '').split(\" \")[-2]\n",
    "    score = float(score)*scalar\n",
    "    return score\n",
    "\n",
    "\n",
    "output_dir = \"../outs\" # please set your output directory here\n",
    "print(\"element fidelity scores\")\n",
    "print(\"\")\n",
    "tarscore2index1={\n",
    "    \"font_score\": (1,100),\n",
    "    \"font_color_score\": (25,1),\n",
    "    \"font_capitalize_score\": (9,100),\n",
    "    \"font_align_score\": (5,100),\n",
    "    \"font_size_score\": (13,1),\n",
    "    \"font_angle_score\": (19,1),\n",
    "    \"font_letter_score\": (16,1),\n",
    "    \"font_lline_height_score\": (22,1),\n",
    "}\n",
    "for att, (index,k) in tarscore2index1.items():\n",
    "\n",
    "    font_score = get_score(output_dir, index,k)\n",
    "    print(att,font_score)\n",
    "\n",
    "print(\"\")\n",
    "print(\"\")\n",
    "\n",
    "print(\"structure scores\")\n",
    "print(\"\")\n",
    "\n",
    "tarscore2index1={\n",
    "    \"font_score\": (27,100),\n",
    "    \"font_color_score\": (33,100),\n",
    "    \"font_capitalize_score\": (45,100),\n",
    "    \"font_align_score\": (39,100),\n",
    "    \"font_size_score\": (51,100),\n",
    "    \"font_angle_score\": (57,100),\n",
    "    \"font_letter_score\": (63,100),\n",
    "    \"font_lline_height_score\": (69,100),\n",
    "}\n",
    "for att, (index,k) in tarscore2index1.items():\n",
    "\n",
    "    font_score = get_score(output_dir, index, k)\n",
    "    print(att,font_score)\n"
   ]
  }
 ],
 "metadata": {
  "kernelspec": {
   "display_name": ".venv",
   "language": "python",
   "name": "python3"
  },
  "language_info": {
   "codemirror_mode": {
    "name": "ipython",
    "version": 3
   },
   "file_extension": ".py",
   "mimetype": "text/x-python",
   "name": "python",
   "nbconvert_exporter": "python",
   "pygments_lexer": "ipython3",
   "version": "3.10.1"
  }
 },
 "nbformat": 4,
 "nbformat_minor": 2
}
