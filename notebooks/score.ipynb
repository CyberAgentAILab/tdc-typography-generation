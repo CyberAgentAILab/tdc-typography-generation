{
 "cells": [
  {
   "cell_type": "code",
   "execution_count": 2,
   "metadata": {},
   "outputs": [
    {
     "name": "stdout",
     "output_type": "stream",
     "text": [
      "18.186068109361116\n",
      "59.10895250864158\n",
      "89.43196472690855\n",
      "99.98559492941517\n",
      "29.720623040124977\n",
      "0.381246451385764\n",
      "2.807381701892659\n",
      "0.07559504299962953\n"
     ]
    }
   ],
   "source": [
    "import os\n",
    "from matplotlib import pylab as plt\n",
    "import numpy as np\n",
    "import statistics\n",
    "import math\n",
    "\n",
    "def get_score(prefix, score_index, scalar):\n",
    "    tmppath = f\"{prefix}/logs/score.txt\"\n",
    "    with open(tmppath) as f:\n",
    "        scores = f.readlines()\n",
    "    score = scores[score_index].replace('\\n', '').split(\" \")[-2]\n",
    "    score = float(score)*scalar\n",
    "    return score\n",
    "\n",
    "def get_structure_score(prefix, score_index,scalar,type=None):\n",
    "    gcspath = f\"gs://ailab-ephemeral/s09275/job_gcp_eval/{prefix}/logs/score.txt\"\n",
    "    _prefix = prefix.split(\"/\")[-1]\n",
    "    tmppath = f\"tmp_data/dl/{_prefix}.txt\"\n",
    "    com = f\"gsutil cp {gcspath} {tmppath}\"\n",
    "    if os.path.isfile(tmppath) is False:\n",
    "        os.system(com)\n",
    "    with open(tmppath) as f:\n",
    "        scores = f.readlines()\n",
    "    score0 = scores[score_index].replace('\\n', '').split(\" \")[-2]\n",
    "    score0 = float(score0)*scalar\n",
    "    count0 = int(scores[score_index].replace('\\n', '').split(\" \")[-3].split(\":\")[-1])\n",
    "    score1 = scores[score_index+1].replace('\\n', '').split(\" \")[-2]\n",
    "    score1 = float(score1)*scalar\n",
    "    count1 = int(scores[score_index+1].replace('\\n', '').split(\" \")[-3].split(\":\")[-1])\n",
    "    score2 = scores[score_index+2].replace('\\n', '').split(\" \")[-2]\n",
    "    score2 = float(score2)*scalar\n",
    "    count2 = int(scores[score_index+2].replace('\\n', '').split(\" \")[-3].split(\":\")[-1])\n",
    "    if type is None:\n",
    "        count = float(count0+count1+count2)\n",
    "        score = score0*count0/count + score1*count1/count + score2*count2/count\n",
    "        #print(count0,count1,count2)\n",
    "    elif type==0:\n",
    "        score = score0\n",
    "    elif type==1:\n",
    "        score = score1\n",
    "    elif type==2:\n",
    "        score = score2\n",
    "    return score\n",
    "\n",
    "output_dir = \"tmp\" # please set your output directory here\n",
    "tarscore2index1={\n",
    "    \"font_score\": (1,100,\"a\"),\n",
    "    \"font_color_score\": (25,1,\"a\"),\n",
    "    \"font_capitalize_score\": (9,100,\"a\"),\n",
    "    \"font_align_score\": (5,100,\"a\"),\n",
    "    \"font_size_score\": (13,1,\"a\"),\n",
    "    \"font_angle_score\": (19,1,\"b\"),\n",
    "    \"font_letter_score\": (16,1,\"b\"),\n",
    "    \"font_lline_height_score\": (22,1,\"c\"),\n",
    "}\n",
    "for att, (index,k, type) in tarscore2index1.items():\n",
    "\n",
    "    font_score = get_score(output_dir, index,k)\n",
    "    print(font_score)\n"
   ]
  },
  {
   "cell_type": "code",
   "execution_count": null,
   "metadata": {},
   "outputs": [],
   "source": []
  }
 ],
 "metadata": {
  "kernelspec": {
   "display_name": ".venv",
   "language": "python",
   "name": "python3"
  },
  "language_info": {
   "codemirror_mode": {
    "name": "ipython",
    "version": 3
   },
   "file_extension": ".py",
   "mimetype": "text/x-python",
   "name": "python",
   "nbconvert_exporter": "python",
   "pygments_lexer": "ipython3",
   "version": "3.10.1"
  }
 },
 "nbformat": 4,
 "nbformat_minor": 2
}
